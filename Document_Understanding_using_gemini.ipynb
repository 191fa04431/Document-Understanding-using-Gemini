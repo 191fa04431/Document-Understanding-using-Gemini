{
  "nbformat": 4,
  "nbformat_minor": 0,
  "metadata": {
    "colab": {
      "provenance": []
    },
    "kernelspec": {
      "name": "python3",
      "display_name": "Python 3"
    },
    "language_info": {
      "name": "python"
    }
  },
  "cells": [
    {
      "cell_type": "markdown",
      "source": [
        "# Document Understanding\n",
        "\n",
        "- The Gemini API supports PDF input, including long documents (up to 1000 pages). Gemini models process PDFs with native vision, and are therefore able to understand both text and image contents inside documents. With native PDF vision support, Gemini models are able to:\n",
        "\n",
        "- Analyze diagrams, charts, and tables inside documents\n",
        "Extract information into structured output formats\n",
        "Answer questions about visual and text contents in documents\n",
        "Summarize documents\n",
        "Transcribe document content (e.g. to HTML) preserving layouts and formatting, for use in downstream applications"
      ],
      "metadata": {
        "id": "4zwHggnArmOQ"
      }
    },
    {
      "cell_type": "markdown",
      "source": [
        "# PDF input\n",
        "\n",
        "- For PDF payloads under 20MB, you can choose between uploading base64 encoded documents or directly uploading locally stored files."
      ],
      "metadata": {
        "id": "4F1hkkDts1o_"
      }
    },
    {
      "cell_type": "markdown",
      "source": [
        "# Get your GEMINI_API_KEY from here: https://aistudio.google.com/apikey"
      ],
      "metadata": {
        "id": "9WQkRSvowGFh"
      }
    },
    {
      "cell_type": "code",
      "source": [
        "import os\n",
        "import os\n",
        "import getpass\n",
        "\n",
        "os.environ[\"Gemini_API_KEY\"] = getpass.getpass(\"Gemini API Key:\")"
      ],
      "metadata": {
        "colab": {
          "base_uri": "https://localhost:8080/"
        },
        "id": "q6R4riysroJ0",
        "outputId": "6a07da7a-e779-414e-c386-4e77d70b076a"
      },
      "execution_count": 2,
      "outputs": [
        {
          "name": "stdout",
          "output_type": "stream",
          "text": [
            "Gemini API Key:··········\n"
          ]
        }
      ]
    },
    {
      "cell_type": "code",
      "source": [
        "from google import genai\n",
        "from google.genai import types\n",
        "import httpx\n",
        "import os\n",
        "\n",
        "# Retrieve the API key from the environment variable set earlier\n",
        "api_key = os.environ.get(\"Gemini_API_KEY\")\n",
        "\n",
        "# Initialize the client with the API key\n",
        "client = genai.Client(api_key=api_key)\n",
        "\n",
        "doc_url = \"/content/datastructures-and-algorithms-roadmap.pdf\"\n",
        "\n",
        "# Retrieve and encode the PDF byte\n",
        "# Note: httpx.get will fail for local file paths.\n",
        "# For local files, you need to read the file directly.\n",
        "# doc_data = httpx.get(doc_url).content # This line will fail for local files\n",
        "\n",
        "# Correct way to read a local file\n",
        "with open(doc_url, \"rb\") as f:\n",
        "    doc_data = f.read()\n",
        "\n",
        "\n",
        "prompt = \"Summarize this document\"\n",
        "response = client.models.generate_content(\n",
        "  model=\"gemini-2.0-flash\",\n",
        "  contents=[\n",
        "      types.Part.from_bytes(\n",
        "        data=doc_data,\n",
        "        mime_type='application/pdf',\n",
        "      ),\n",
        "      prompt])\n",
        "print(response.text)"
      ],
      "metadata": {
        "colab": {
          "base_uri": "https://localhost:8080/"
        },
        "id": "eMC8D0u_r4Sj",
        "outputId": "f052807f-0bb3-4079-a6e1-968f7800c45b"
      },
      "execution_count": 4,
      "outputs": [
        {
          "output_type": "stream",
          "name": "stdout",
          "text": [
            "The image shows a comprehensive roadmap for learning Data Structures and Algorithms (DSA). It starts with selecting a programming language (like JavaScript, Python, Java, etc.) and covers fundamental programming concepts. It then dives into data structures, including basic types like arrays and linked lists, and progresses to more advanced structures like trees and graphs. Algorithmic complexity, sorting and searching algorithms, graph algorithms, and indexing techniques are also covered. It recommends practicing problem-solving with different techniques (Brute force, backtracking, greedy) and leveraging platforms like Leetcode and Edabit. The final section emphasizes \"Keep Learning\".\n",
            "\n"
          ]
        }
      ]
    },
    {
      "cell_type": "markdown",
      "source": [
        "# Locally Stored PDFs\n",
        "\n",
        "- For locally stored Pdfs you can use below approach."
      ],
      "metadata": {
        "id": "IpVGrBu0tADA"
      }
    },
    {
      "cell_type": "code",
      "source": [
        "from google import genai\n",
        "from google.genai import types\n",
        "import pathlib\n",
        "import httpx\n",
        "import os # Import os to access environment variables\n",
        "\n",
        "# Retrieve the API key from the environment variable set earlier\n",
        "# This assumes you have already set the Gemini_API_KEY environment variable in a previous cell\n",
        "api_key = os.environ.get(\"Gemini_API_KEY\")\n",
        "\n",
        "# Initialize the client with the API key\n",
        "client = genai.Client(api_key=api_key)\n",
        "\n",
        "# Update the doc_url to a path accessible in the notebook's environment\n",
        "# Assuming the file is uploaded to /content/prompt_engineering_cheat_sheet.pdf\n",
        "doc_url = \"/content/prompt_engineering_cheat_sheet.pdf\"\n",
        "\n",
        "# Read the local PDF file directly\n",
        "try:\n",
        "    with open(doc_url, \"rb\") as f:\n",
        "        doc_data = f.read()\n",
        "except FileNotFoundError:\n",
        "    print(f\"Error: The file {doc_url} was not found.\")\n",
        "    # You might want to handle this error appropriately, e.g., exit the cell or raise an exception.\n",
        "    doc_data = None # Set doc_data to None or handle the error as needed.\n",
        "\n",
        "\n",
        "if doc_data: # Proceed only if the file was read successfully\n",
        "    prompt = \"Summarize this document\"\n",
        "    response = client.models.generate_content(\n",
        "      model=\"gemini-2.0-flash\",\n",
        "      contents=[\n",
        "          types.Part.from_bytes(\n",
        "            data=doc_data,\n",
        "            mime_type='application/pdf',\n",
        "          ),\n",
        "          prompt])\n",
        "    print(response.text)"
      ],
      "metadata": {
        "colab": {
          "base_uri": "https://localhost:8080/"
        },
        "id": "n2EO7GiitKQy",
        "outputId": "84c1304f-74c1-4e44-9b34-c5da14842e51"
      },
      "execution_count": 10,
      "outputs": [
        {
          "output_type": "stream",
          "name": "stdout",
          "text": [
            "Here's a summary of the document:\n",
            "\n",
            "This document provides tips for writing effective prompts for Large Language Models (LLMs), particularly in a technical or programming context. It uses a \"DO\" and \"DON'T\" format with examples to illustrate good and bad prompting practices.\n",
            "\n",
            "**Key takeaways:**\n",
            "\n",
            "*   **Be Clear and Specific:**  Provide ample detail and avoid ambiguity.\n",
            "*   **Define the LLM's Role:**  Explicitly tell the LLM what role you want it to take (e.g., \"You are an expert...\"). and provide your own expertise.\n",
            "*   **Contextualize:**  Mention relevant programming languages, libraries, and other technologies.\n",
            "*   **Explain the Code's Purpose:**  Describe what the code is intended to do.\n",
            "*   **Specify Constraints:**  Include any constraints or requirements (e.g., memory limitations, software versions).\n",
            "*   **Example of your expected output:** This is important to help the LLM better understand what you are looking for.\n",
            "*   **Step-by-step instructions:** Ask the LLM to work step-by-step if there are multiple things to do.\n",
            "*   **Prompt Iteration:**  Recognize that initial prompts might not be perfect and be prepared to iterate and refine them based on the LLM's responses.\n"
          ]
        }
      ]
    },
    {
      "cell_type": "markdown",
      "source": [
        "# Multiple PDFs\n",
        "\n",
        "- The Gemini API is capable of processing multiple PDF documents in a single request, as long as the combined size of the documents and the text prompt stays within the model's context window."
      ],
      "metadata": {
        "id": "tjxlsDfmu4fG"
      }
    },
    {
      "cell_type": "code",
      "source": [
        "from google import genai\n",
        "import io\n",
        "import httpx\n",
        "import os # Import os to access environment variables\n",
        "\n",
        "api_key = os.environ.get(\"Gemini_API_KEY\")\n",
        "\n",
        "# Initialize the client with the API key\n",
        "client = genai.Client(api_key=api_key)\n",
        "\n",
        "doc_url_1 = \"/content/datastructures-and-algorithms-roadmap.pdf\"\n",
        "doc_url_2 = \"/content/prompt_engineering_cheat_sheet.pdf\"\n",
        "\n",
        "# Read the local PDF files directly\n",
        "try:\n",
        "    with open(doc_url_1, \"rb\") as f:\n",
        "        doc_data_1 = f.read()\n",
        "    with open(doc_url_2, \"rb\") as f:\n",
        "        doc_data_2 = f.read()\n",
        "except FileNotFoundError as e:\n",
        "    print(f\"Error: File not found - {e}\")\n",
        "    # Handle the error, e.g., exit or set doc_data to None\n",
        "    doc_data_1 = None\n",
        "    doc_data_2 = None\n",
        "\n",
        "\n",
        "if doc_data_1 and doc_data_2: # Proceed only if both files were read successfully\n",
        "    # Upload the PDF data to the Gemini API using the File API\n",
        "    sample_pdf_1 = client.files.upload(\n",
        "      file=io.BytesIO(doc_data_1), # Wrap the bytes data in BytesIO\n",
        "      config=dict(mime_type='application/pdf')\n",
        "    )\n",
        "    sample_pdf_2 = client.files.upload(\n",
        "      file=io.BytesIO(doc_data_2), # Wrap the bytes data in BytesIO\n",
        "      config=dict(mime_type='application/pdf')\n",
        "    )\n",
        "\n",
        "    prompt = \"What is the difference between each of the pdfs? Output these in a table.\"\n",
        "\n",
        "    response = client.models.generate_content(\n",
        "      model=\"gemini-2.0-flash\",\n",
        "      contents=[sample_pdf_1, sample_pdf_2, prompt])\n",
        "    print(response.text)"
      ],
      "metadata": {
        "colab": {
          "base_uri": "https://localhost:8080/"
        },
        "id": "InkZdANQtbkf",
        "outputId": "aa4a126e-04c7-4136-cb03-3d09f6a53316"
      },
      "execution_count": 15,
      "outputs": [
        {
          "output_type": "stream",
          "name": "stdout",
          "text": [
            "Okay, I will compare the two PDFs and summarize the differences in a table.\n",
            "\n",
            "| Feature | PDF 1 (Data Structures & Algorithms Roadmap) | PDF 2 (Prompt Engineering Tips) |\n",
            "|---|---|---|\n",
            "| **Content Focus** | Focuses on Computer Science concepts, specifically Data Structures and Algorithms. | Focuses on how to write effective prompts for Large Language Models (LLMs). |\n",
            "| **Type of Information** | Presents a structured learning path for Data Structures and Algorithms. It outlines topics, subtopics, and relationships. | Provides practical advice and examples on how to formulate prompts to get better results from LLMs.  Includes \"DO\" and \"DON'T\" examples. |\n",
            "| **Target Audience** | Students or developers who want to learn or improve their knowledge of Data Structures and Algorithms. | Individuals who are using or planning to use Large Language Models (like ChatGPT, etc.) and want to learn how to better interact with them. |\n",
            "| **Format** | A roadmap using a directed graph, with topics represented as nodes and learning paths indicated by lines. | Uses a table-based format to present tips and examples. |\n",
            "| **Level of Detail** |  Provides a high-level overview of topics with subtopics. | Focuses on specific examples of good and bad prompt engineering. |\n",
            "| **Purpose** | Guides the learner through a curriculum in Data Structures and Algorithms. | Helps users to improve their skills in interacting with and getting useful outputs from LLMs. |\n",
            "\n",
            "I hope this comparison is helpful!\n",
            "\n"
          ]
        }
      ]
    },
    {
      "cell_type": "code",
      "source": [],
      "metadata": {
        "id": "MXd1vKIdvFuW"
      },
      "execution_count": null,
      "outputs": []
    }
  ]
}